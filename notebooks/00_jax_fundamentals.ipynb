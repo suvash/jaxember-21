{
 "cells": [
  {
   "cell_type": "markdown",
   "id": "6190edf5-68fc-4bad-bc8e-fe098d6d8b49",
   "metadata": {},
   "source": [
    "# 00 - Jax fundamentals - Linear curve fitting"
   ]
  },
  {
   "cell_type": "markdown",
   "id": "502c20d3-cfda-446f-8324-42ca48a6fef4",
   "metadata": {},
   "source": [
    "## Let's get started with jax. But first, numpy."
   ]
  },
  {
   "cell_type": "code",
   "execution_count": 1,
   "id": "183025a3-b702-4040-966c-582e6f0ddb64",
   "metadata": {},
   "outputs": [],
   "source": [
    "import numpy as np"
   ]
  },
  {
   "cell_type": "code",
   "execution_count": 2,
   "id": "a0e307b7-5f58-4ea9-b74c-0d358d0853e8",
   "metadata": {},
   "outputs": [
    {
     "name": "stdout",
     "output_type": "stream",
     "text": [
      "[0 1 2 3 4 5 6 7 8 9]\n"
     ]
    }
   ],
   "source": [
    "print(np.arange(10))"
   ]
  },
  {
   "cell_type": "markdown",
   "id": "88e7c915-56ff-44df-8970-85f6c00015b8",
   "metadata": {},
   "source": [
    "## Jax is really just numpy with superpowers, let's think of it that way for now."
   ]
  },
  {
   "cell_type": "code",
   "execution_count": 3,
   "id": "d10e3bf1-d0bb-4fa9-b11e-6ef284090712",
   "metadata": {},
   "outputs": [],
   "source": [
    "import jax\n",
    "import jax.numpy as jnp"
   ]
  },
  {
   "cell_type": "code",
   "execution_count": 4,
   "id": "017ee381-8d08-471d-8997-3e65571e12cf",
   "metadata": {},
   "outputs": [
    {
     "data": {
      "text/plain": [
       "[GpuDevice(id=0, process_index=0)]"
      ]
     },
     "execution_count": 4,
     "metadata": {},
     "output_type": "execute_result"
    }
   ],
   "source": [
    "jax.local_devices()"
   ]
  },
  {
   "cell_type": "code",
   "execution_count": 5,
   "id": "ddc4b3e0-66f9-4cd2-95ed-0a8c6f634627",
   "metadata": {},
   "outputs": [
    {
     "data": {
      "text/plain": [
       "'0.2.19'"
      ]
     },
     "execution_count": 5,
     "metadata": {},
     "output_type": "execute_result"
    }
   ],
   "source": [
    "jax.__version__"
   ]
  },
  {
   "cell_type": "code",
   "execution_count": 6,
   "id": "ddff6490-e632-4074-8c4d-328f4e30693e",
   "metadata": {},
   "outputs": [
    {
     "name": "stdout",
     "output_type": "stream",
     "text": [
      "[0 1 2 3 4 5 6 7 8 9]\n"
     ]
    }
   ],
   "source": [
    "print(jnp.arange(10))"
   ]
  },
  {
   "cell_type": "markdown",
   "id": "ac0b6c3a-a496-43eb-afdc-c9d2238a9876",
   "metadata": {},
   "source": [
    "### See how the results and the api from numpy and jax.numpy basically look the same."
   ]
  },
  {
   "cell_type": "markdown",
   "id": "50a8d77a-4b6d-400d-be04-404633b5ea76",
   "metadata": {},
   "source": [
    "## Now on to some numpy and jax usage for basic curve fitting."
   ]
  },
  {
   "cell_type": "markdown",
   "id": "f379f0b9-42ee-48a0-bc7f-143c7e285caa",
   "metadata": {},
   "source": [
    "### Let's first create a dataset using numpy."
   ]
  },
  {
   "cell_type": "code",
   "execution_count": 7,
   "id": "9091239f-e8db-4575-80c3-5515c583fa5f",
   "metadata": {},
   "outputs": [],
   "source": [
    "import matplotlib.pyplot as plt"
   ]
  },
  {
   "cell_type": "code",
   "execution_count": 8,
   "id": "c03a18a0-7efd-4bad-b2a6-393ec2ce428a",
   "metadata": {},
   "outputs": [],
   "source": [
    "xs = np.random.normal(size=(100,))\n",
    "noise = np.random.normal(scale=1, size=(100,))\n",
    "\n",
    "original_weight = 7\n",
    "original_bias = -5\n",
    "\n",
    "ys = xs * original_weight + original_bias + noise"
   ]
  },
  {
   "cell_type": "markdown",
   "id": "295e607f-36ed-45c3-8ffe-d9000d87b5ea",
   "metadata": {},
   "source": [
    "### Let's check what the dataset looks like"
   ]
  },
  {
   "cell_type": "code",
   "execution_count": 9,
   "id": "c8e9adc0-b3f4-43d5-9430-4b63221aaa3c",
   "metadata": {},
   "outputs": [
    {
     "data": {
      "text/plain": [
       "<matplotlib.collections.PathCollection at 0x7fc33e2900d0>"
      ]
     },
     "execution_count": 9,
     "metadata": {},
     "output_type": "execute_result"
    },
    {
     "data": {
      "image/png": "[encoded data removed]",
      "text/plain": [
       "<Figure size 432x288 with 1 Axes>"
      ]
     },
     "metadata": {
      "needs_background": "light"
     },
     "output_type": "display_data"
    }
   ],
   "source": [
    "plt.scatter(xs, ys)"
   ]
  },
  {
   "cell_type": "markdown",
   "id": "877c5ebe-697a-4f58-9272-819383657a6d",
   "metadata": {},
   "source": [
    "### Now we'll try to fit a linear model to the dataset using jax functions."
   ]
  },
  {
   "cell_type": "markdown",
   "id": "cc95feca-1171-4ab1-b637-bbefebdde279",
   "metadata": {},
   "source": [
    "#### First, let's create a model function."
   ]
  },
  {
   "cell_type": "markdown",
   "id": "a9ad5730-aea8-45ad-a8aa-69c538823532",
   "metadata": {},
   "source": [
    "Note how we represent weight and bias together as theta."
   ]
  },
  {
   "cell_type": "code",
   "execution_count": 10,
   "id": "9d48205b-f748-411e-93df-a7c57de41f81",
   "metadata": {},
   "outputs": [],
   "source": [
    "def model(theta, x):\n",
    "    weight, bias = theta\n",
    "    return weight * x + bias"
   ]
  },
  {
   "cell_type": "markdown",
   "id": "8fece6ec-9639-4b89-a5e1-747322135c98",
   "metadata": {},
   "source": [
    "#### Then, we're on to a loss measurement function."
   ]
  },
  {
   "cell_type": "markdown",
   "id": "9cbde51a-ca88-4a4e-8744-0cbe4aa77f44",
   "metadata": {},
   "source": [
    "Note how me use jax.numpy mean instead of numpy mean."
   ]
  },
  {
   "cell_type": "code",
   "execution_count": 11,
   "id": "3b134085-105a-4d21-86a5-c28349dd6622",
   "metadata": {},
   "outputs": [],
   "source": [
    "def loss_fn(theta, x, y):\n",
    "    prediction = model(theta, x)\n",
    "    return jnp.mean((prediction - y)**2)"
   ]
  },
  {
   "cell_type": "markdown",
   "id": "159bb521-8ed9-4f61-a76d-e8cd1fc3a3a0",
   "metadata": {},
   "source": [
    "#### Finally, we need a function that can use the loss to update the weights & bias."
   ]
  },
  {
   "cell_type": "markdown",
   "id": "49411f8d-8c50-464a-8e14-614661718293",
   "metadata": {},
   "source": [
    "\n",
    "Here, we take a gradient on the loss function above, that does a jax transform on it and is then ready to apply the arguments as expected in the original loss function"
   ]
  },
  {
   "cell_type": "code",
   "execution_count": 12,
   "id": "1393b455-a244-42ec-adb7-fb11210c8fc2",
   "metadata": {},
   "outputs": [],
   "source": [
    "def update(theta, x, y, lr=0.1):\n",
    "    return theta - lr * jax.grad(loss_fn)(theta, x, y)"
   ]
  },
  {
   "cell_type": "markdown",
   "id": "a834613e-7226-4140-a1d8-26eb932fd168",
   "metadata": {},
   "source": [
    "#### Now, let's seed the weight and bias with a random number and start the fitting process."
   ]
  },
  {
   "cell_type": "code",
   "execution_count": 13,
   "id": "380265c6-7978-4234-b102-ecc908ef9136",
   "metadata": {},
   "outputs": [
    {
     "data": {
      "text/plain": [
       "[<matplotlib.lines.Line2D at 0x7fc28c64ab50>]"
      ]
     },
     "execution_count": 13,
     "metadata": {},
     "output_type": "execute_result"
    },
    {
     "data": {
      "image/png": "[encoded data removed]",
      "text/plain": [
       "<Figure size 432x288 with 1 Axes>"
      ]
     },
     "metadata": {
      "needs_background": "light"
     },
     "output_type": "display_data"
    }
   ],
   "source": [
    "theta = jnp.array([-5., -5.])\n",
    "\n",
    "plt.scatter(xs, ys)\n",
    "plt.plot(xs, model(theta, xs))"
   ]
  },
  {
   "cell_type": "markdown",
   "id": "b3022abe-a447-43e2-ac2b-bfaf5d836df0",
   "metadata": {},
   "source": [
    "That's where we started, not anywhere close to fit. Let's run the update function for some 5 iterations and see where we end up with our theta."
   ]
  },
  {
   "cell_type": "code",
   "execution_count": 14,
   "id": "e2e41ea0-d47b-48ed-b3c1-8acf8de5ed28",
   "metadata": {},
   "outputs": [
    {
     "data": {
      "text/plain": [
       "[<matplotlib.lines.Line2D at 0x7fc28c54c450>]"
      ]
     },
     "execution_count": 14,
     "metadata": {},
     "output_type": "execute_result"
    },
    {
     "data": {
      "image/png": "[encoded data removed]",
      "text/plain": [
       "<Figure size 432x288 with 1 Axes>"
      ]
     },
     "metadata": {
      "needs_background": "light"
     },
     "output_type": "display_data"
    }
   ],
   "source": [
    "for _ in range(5):\n",
    "    theta = update(theta, xs, ys)\n",
    "\n",
    "plt.scatter(xs, ys)\n",
    "plt.plot(xs, model(theta, xs))"
   ]
  },
  {
   "cell_type": "markdown",
   "id": "960b1d4b-21ef-45a1-9caa-4595fa6616e9",
   "metadata": {},
   "source": [
    "5 more iterations"
   ]
  },
  {
   "cell_type": "code",
   "execution_count": 15,
   "id": "31496ca2-9fab-4ac7-a8ea-1de28450f30c",
   "metadata": {},
   "outputs": [
    {
     "data": {
      "text/plain": [
       "[<matplotlib.lines.Line2D at 0x7fc28c4c8d90>]"
      ]
     },
     "execution_count": 15,
     "metadata": {},
     "output_type": "execute_result"
    },
    {
     "data": {
      "image/png": "[encoded data removed]",
      "text/plain": [
       "<Figure size 432x288 with 1 Axes>"
      ]
     },
     "metadata": {
      "needs_background": "light"
     },
     "output_type": "display_data"
    }
   ],
   "source": [
    "for _ in range(5):\n",
    "    theta = update(theta, xs, ys)\n",
    "\n",
    "plt.scatter(xs, ys)\n",
    "plt.plot(xs, model(theta, xs))"
   ]
  },
  {
   "cell_type": "markdown",
   "id": "578a99d1-e750-4f78-a4f9-d483652d0bcb",
   "metadata": {},
   "source": [
    "Getting there."
   ]
  },
  {
   "cell_type": "code",
   "execution_count": 16,
   "id": "fb0c3175-b529-41d1-9e50-5dbe16e1c2b7",
   "metadata": {},
   "outputs": [
    {
     "data": {
      "text/plain": [
       "[<matplotlib.lines.Line2D at 0x7fc28c45a850>]"
      ]
     },
     "execution_count": 16,
     "metadata": {},
     "output_type": "execute_result"
    },
    {
     "data": {
      "image/png": "[encoded data removed]",
      "text/plain": [
       "<Figure size 432x288 with 1 Axes>"
      ]
     },
     "metadata": {
      "needs_background": "light"
     },
     "output_type": "display_data"
    }
   ],
   "source": [
    "for _ in range(5):\n",
    "    theta = update(theta, xs, ys)\n",
    "\n",
    "plt.scatter(xs, ys)\n",
    "plt.plot(xs, model(theta, xs))"
   ]
  },
  {
   "cell_type": "markdown",
   "id": "aefab574-bfd6-43d1-8a01-09f1cd5a0fa5",
   "metadata": {},
   "source": [
    "Let's go for 100 iterations now."
   ]
  },
  {
   "cell_type": "code",
   "execution_count": 17,
   "id": "64aa152b-6d3d-46bc-b409-67a05113a621",
   "metadata": {},
   "outputs": [
    {
     "data": {
      "text/plain": [
       "[<matplotlib.lines.Line2D at 0x7fc28c38f7d0>]"
      ]
     },
     "execution_count": 17,
     "metadata": {},
     "output_type": "execute_result"
    },
    {
     "data": {
      "image/png": "[encoded data removed]",
      "text/plain": [
       "<Figure size 432x288 with 1 Axes>"
      ]
     },
     "metadata": {
      "needs_background": "light"
     },
     "output_type": "display_data"
    }
   ],
   "source": [
    "for _ in range(100):\n",
    "    theta = update(theta, xs, ys)\n",
    "\n",
    "plt.scatter(xs, ys)\n",
    "plt.plot(xs, model(theta, xs))"
   ]
  },
  {
   "cell_type": "markdown",
   "id": "25c4f68e-83c4-45ca-a09b-42aa6d818145",
   "metadata": {},
   "source": [
    "And, the final weight & bias is"
   ]
  },
  {
   "cell_type": "code",
   "execution_count": 18,
   "id": "f4585b0c-f112-47a0-ae47-656a23fdbb7b",
   "metadata": {},
   "outputs": [
    {
     "name": "stdout",
     "output_type": "stream",
     "text": [
      "w: 7.02, b: -4.84\n"
     ]
    }
   ],
   "source": [
    "w, b = theta\n",
    "print(f\"w: {w:<.2f}, b: {b:<.2f}\")"
   ]
  },
  {
   "cell_type": "markdown",
   "id": "7aee70f7-08db-4e50-a6a7-12f01007dc8e",
   "metadata": {},
   "source": [
    "which is very close to what we got started with."
   ]
  },
  {
   "cell_type": "markdown",
   "id": "0c9b3b96-0651-4354-9616-f8e9de0daf81",
   "metadata": {},
   "source": [
    "## That's all for today"
   ]
  }
 ],
 "metadata": {
  "kernelspec": {
   "display_name": "Python 3 (ipykernel)",
   "language": "python",
   "name": "python3"
  },
  "language_info": {
   "codemirror_mode": {
    "name": "ipython",
    "version": 3
   },
   "file_extension": ".py",
   "mimetype": "text/x-python",
   "name": "python",
   "nbconvert_exporter": "python",
   "pygments_lexer": "ipython3",
   "version": "3.7.11"
  }
 },
 "nbformat": 4,
 "nbformat_minor": 5
}
