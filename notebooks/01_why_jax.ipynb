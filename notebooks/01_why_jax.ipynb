{
 "cells": [
  {
   "cell_type": "markdown",
   "id": "85301cc5-9fce-44ea-b083-d42c004a6ddf",
   "metadata": {},
   "source": [
    "# 01 - Why jax - Motivating the need/usage"
   ]
  },
  {
   "cell_type": "markdown",
   "id": "d6b9481f-ca6e-4838-99d6-dbb1dd354948",
   "metadata": {},
   "source": [
    "https://www.youtube.com/watch?v=z-WSrQDXkuM"
   ]
  },
  {
   "cell_type": "markdown",
   "id": "d4eccd82-b642-4b0d-8d71-dcbd2740a044",
   "metadata": {},
   "source": [
    "## How might you a performant & scalable deep neural network from scratch in Python ?"
   ]
  },
  {
   "cell_type": "markdown",
   "id": "070e7543-cde3-43ff-ac5d-96fa45e724aa",
   "metadata": {},
   "source": [
    "### Missing stuff in `numpy`\n",
    "\n",
    "- Running on accelerated hardware\n",
    "- Fast optimisation using some sort of automatic differentiation\n",
    "- Fusing operations via compilation\n",
    "- Parallelisation of data and computation"
   ]
  },
  {
   "cell_type": "markdown",
   "id": "b2394487-6869-4c50-a185-016c6fe3b527",
   "metadata": {},
   "source": [
    "### Jax fills in via :"
   ]
  },
  {
   "cell_type": "markdown",
   "id": "1ef2ced2-b9b6-4f1f-881c-0bf61548372a",
   "metadata": {},
   "source": [
    "- Jax uses XLA to compile down to code that runs on various devices (CPU/GPU/TPU)\n",
    "- Automatic differentiation (analytical `grad` using a tracer object) and vectorisation via `vmap`\n",
    "- `jit` compilation can fuse operations by compiling them all together to run them efficiently\n",
    "- Can parallise across devices easily using `pmap`"
   ]
  },
  {
   "cell_type": "markdown",
   "id": "cc104288-5ee5-4651-8058-3507980c2d5a",
   "metadata": {},
   "source": [
    "## Jax effectively is \n",
    "- an extensible system \n",
    "- for building composable function transformations \n",
    "- using Python + numpy."
   ]
  },
  {
   "cell_type": "markdown",
   "id": "6be17052-d550-4045-b9e5-8bf1aab60941",
   "metadata": {},
   "source": [
    "# Some code now"
   ]
  },
  {
   "cell_type": "code",
   "execution_count": 1,
   "id": "48410604-2a80-4622-8bd5-aeb1e9770781",
   "metadata": {},
   "outputs": [],
   "source": [
    "import numpy as np"
   ]
  },
  {
   "cell_type": "code",
   "execution_count": 2,
   "id": "6d437cf4-1478-4efa-a48e-385f677c6cd5",
   "metadata": {},
   "outputs": [
    {
     "data": {
      "text/plain": [
       "array([[0.04273037, 0.23183986, 0.48447575, ..., 0.61164107, 0.46734011,\n",
       "        0.2769249 ],\n",
       "       [0.6870176 , 0.13298142, 0.87604064, ..., 0.26202938, 0.32005995,\n",
       "        0.80281536],\n",
       "       [0.88467422, 0.87342925, 0.07306913, ..., 0.08519661, 0.88314336,\n",
       "        0.62023012],\n",
       "       ...,\n",
       "       [0.18655909, 0.43413159, 0.71624317, ..., 0.21963128, 0.59678682,\n",
       "        0.25249576],\n",
       "       [0.55847249, 0.88173011, 0.18338242, ..., 0.18198948, 0.85956361,\n",
       "        0.46423807],\n",
       "       [0.39157313, 0.03832188, 0.06445656, ..., 0.67164811, 0.95078567,\n",
       "        0.85916955]])"
      ]
     },
     "execution_count": 2,
     "metadata": {},
     "output_type": "execute_result"
    }
   ],
   "source": [
    "x = np.random.rand(2000,2000)\n",
    "x"
   ]
  },
  {
   "cell_type": "code",
   "execution_count": 3,
   "id": "baf7a749-e2d2-4523-a154-b349f288d5e9",
   "metadata": {},
   "outputs": [
    {
     "data": {
      "text/plain": [
       "array([[0.04275639, 0.23608493, 0.52631301, ..., 0.70136439, 0.50462418,\n",
       "        0.28422788],\n",
       "       [0.82033445, 0.13377089, 1.19995753, ..., 0.26819571, 0.33145594,\n",
       "        1.03545551],\n",
       "       [1.22124363, 1.19360588, 0.07319945, ..., 0.08540334, 1.2174367 ,\n",
       "        0.71425647],\n",
       "       ...,\n",
       "       [0.18875401, 0.46363114, 0.87044293, ..., 0.22323229, 0.67943005,\n",
       "        0.25800211],\n",
       "       [0.62482365, 1.21393482, 0.18546611, ..., 0.18402564, 1.1605312 ,\n",
       "        0.50073829],\n",
       "       [0.41289504, 0.03834065, 0.06454598, ..., 0.79494027, 1.40070716,\n",
       "        1.15960683]])"
      ]
     },
     "execution_count": 3,
     "metadata": {},
     "output_type": "execute_result"
    }
   ],
   "source": [
    "np.tan(x)"
   ]
  },
  {
   "cell_type": "markdown",
   "id": "c06389b1-b1d9-4e7b-a208-9412cfaf7cda",
   "metadata": {},
   "source": [
    "## On the GPU via Jax"
   ]
  },
  {
   "cell_type": "code",
   "execution_count": 4,
   "id": "6c2c4f0f-d85e-478c-b104-77b88de571c7",
   "metadata": {},
   "outputs": [],
   "source": [
    "import jax.numpy as jnp"
   ]
  },
  {
   "cell_type": "code",
   "execution_count": 5,
   "id": "8260d526-f5bb-4734-be00-e5861c63c23e",
   "metadata": {},
   "outputs": [
    {
     "data": {
      "text/plain": [
       "DeviceArray([[0.04273036, 0.23183987, 0.48447576, ..., 0.61164105,\n",
       "              0.4673401 , 0.2769249 ],\n",
       "             [0.6870176 , 0.13298142, 0.87604064, ..., 0.26202938,\n",
       "              0.32005996, 0.8028154 ],\n",
       "             [0.8846742 , 0.87342924, 0.07306913, ..., 0.08519661,\n",
       "              0.88314337, 0.62023014],\n",
       "             ...,\n",
       "             [0.1865591 , 0.4341316 , 0.71624315, ..., 0.21963128,\n",
       "              0.5967868 , 0.25249577],\n",
       "             [0.5584725 , 0.8817301 , 0.18338242, ..., 0.18198948,\n",
       "              0.8595636 , 0.46423808],\n",
       "             [0.39157313, 0.03832189, 0.06445657, ..., 0.6716481 ,\n",
       "              0.95078564, 0.85916954]], dtype=float32)"
      ]
     },
     "execution_count": 5,
     "metadata": {},
     "output_type": "execute_result"
    }
   ],
   "source": [
    "y = jnp.array(x)\n",
    "y"
   ]
  },
  {
   "cell_type": "markdown",
   "id": "f3d98e37-6cc9-4ee9-8dcf-13fa409ddf8c",
   "metadata": {},
   "source": [
    "Note that the array is actually a `DeviceArray`. This is the abstraction Jax uses to represent an array irrespective of the device it runs on."
   ]
  },
  {
   "cell_type": "code",
   "execution_count": 6,
   "id": "d727c544-a58b-413b-8d63-ef58dfb97f62",
   "metadata": {},
   "outputs": [
    {
     "data": {
      "text/plain": [
       "DeviceArray([[0.04271736, 0.22976856, 0.46574453, ..., 0.5742118 ,\n",
       "              0.4505132 , 0.27339903],\n",
       "             [0.6342342 , 0.13258982, 0.7682102 , ..., 0.2590412 ,\n",
       "              0.31462348, 0.71931475],\n",
       "             [0.77370864, 0.76653576, 0.07300413, ..., 0.08509358,\n",
       "              0.7727379 , 0.5812225 ],\n",
       "             ...,\n",
       "             [0.1854788 , 0.4206227 , 0.6565556 , ..., 0.21786977,\n",
       "              0.5619876 , 0.24982136],\n",
       "             [0.52989143, 0.7718401 , 0.18235631, ..., 0.18098655,\n",
       "              0.7575578 , 0.44774166],\n",
       "             [0.38164294, 0.03831251, 0.06441195, ..., 0.62227696,\n",
       "              0.8138723 , 0.7573005 ]], dtype=float32)"
      ]
     },
     "execution_count": 6,
     "metadata": {},
     "output_type": "execute_result"
    }
   ],
   "source": [
    "jnp.sin(y)"
   ]
  },
  {
   "cell_type": "code",
   "execution_count": 7,
   "id": "22a2e404-f10b-40ed-b948-36d106fef32b",
   "metadata": {},
   "outputs": [
    {
     "data": {
      "text/plain": [
       "DeviceArray([0.04273036, 0.23183987, 0.48447576, ..., 0.61164105,\n",
       "             0.4673401 , 0.2769249 ], dtype=float32)"
      ]
     },
     "execution_count": 7,
     "metadata": {},
     "output_type": "execute_result"
    }
   ],
   "source": [
    "y[0]"
   ]
  },
  {
   "cell_type": "markdown",
   "id": "5e70faa3-c74a-4b6e-a126-d8ff0a9185bb",
   "metadata": {},
   "source": [
    "Now let's time `np` and `jnp`"
   ]
  },
  {
   "cell_type": "code",
   "execution_count": 8,
   "id": "711445d3-5d2c-4bf0-9fba-ebd8ff044df9",
   "metadata": {},
   "outputs": [
    {
     "name": "stdout",
     "output_type": "stream",
     "text": [
      "80 ms ± 390 µs per loop (mean ± std. dev. of 7 runs, 10 loops each)\n",
      "157 µs ± 34.7 µs per loop (mean ± std. dev. of 7 runs, 1 loop each)\n"
     ]
    }
   ],
   "source": [
    "%timeit np.dot(x, x)\n",
    "%timeit jnp.dot(y, y)"
   ]
  },
  {
   "cell_type": "markdown",
   "id": "58b7345b-7de0-4c07-a6a2-a96c8a4ef0f2",
   "metadata": {},
   "source": [
    "The Jax operation runs much faster (`ms` vs `us`)"
   ]
  },
  {
   "cell_type": "markdown",
   "id": "3ee03cab-33cd-4ca0-a046-0137823bf652",
   "metadata": {},
   "source": [
    "## Now lets look into JIT"
   ]
  },
  {
   "cell_type": "markdown",
   "id": "352ef1a9-2c17-4a5a-96b3-0b4940b35891",
   "metadata": {},
   "source": [
    "Fuses operations together into a compiled and efficient code. This below code is horrible in terms of perf."
   ]
  },
  {
   "cell_type": "code",
   "execution_count": 9,
   "id": "c5afc639-f33c-414b-890e-f930268320cd",
   "metadata": {},
   "outputs": [],
   "source": [
    "def f(z):\n",
    "    for i in range(10):\n",
    "        z -= 0.1 * z"
   ]
  },
  {
   "cell_type": "code",
   "execution_count": 10,
   "id": "71272897-a7cb-4365-97d7-cc8e19654d22",
   "metadata": {},
   "outputs": [
    {
     "name": "stdout",
     "output_type": "stream",
     "text": [
      "1.09 ms ± 2.57 µs per loop (mean ± std. dev. of 7 runs, 1000 loops each)\n"
     ]
    }
   ],
   "source": [
    "%timeit f(y)"
   ]
  },
  {
   "cell_type": "code",
   "execution_count": 11,
   "id": "b3ec6c4a-0f77-4bc5-9033-54afb1a84207",
   "metadata": {},
   "outputs": [],
   "source": [
    "from jax import jit"
   ]
  },
  {
   "cell_type": "markdown",
   "id": "3bb0e29c-62f6-4bd7-8646-14bddd67b699",
   "metadata": {},
   "source": [
    "a better compiled function now"
   ]
  },
  {
   "cell_type": "code",
   "execution_count": 12,
   "id": "91651733-c62e-488b-ba4c-64896b1bc5a9",
   "metadata": {},
   "outputs": [],
   "source": [
    "g = jit(f)"
   ]
  },
  {
   "cell_type": "code",
   "execution_count": 13,
   "id": "4fce6ca3-788c-40a9-9938-1bca7eb54328",
   "metadata": {},
   "outputs": [
    {
     "name": "stdout",
     "output_type": "stream",
     "text": [
      "11.5 µs ± 64.7 ns per loop (mean ± std. dev. of 7 runs, 100000 loops each)\n"
     ]
    }
   ],
   "source": [
    "%timeit g(y)"
   ]
  },
  {
   "cell_type": "markdown",
   "id": "bbf8332b-2749-4c90-b487-e2f6ca4bbfd5",
   "metadata": {},
   "source": [
    "The jitted function is a huge improvement over the normal jax function"
   ]
  },
  {
   "cell_type": "markdown",
   "id": "e84e2833-cb73-407e-9a8e-47960255b7e8",
   "metadata": {},
   "source": [
    "### On to Automatic differentiation"
   ]
  },
  {
   "cell_type": "code",
   "execution_count": 14,
   "id": "a846f188-c260-44ec-a7f5-6d591439d3ef",
   "metadata": {},
   "outputs": [],
   "source": [
    "def f(x):\n",
    "    return x**3 + 5*x**2"
   ]
  },
  {
   "cell_type": "markdown",
   "id": "0d08f00b-70f7-4179-8e9f-f0e3412871bc",
   "metadata": {},
   "source": [
    "This fn can be hand differentiated as follows"
   ]
  },
  {
   "cell_type": "code",
   "execution_count": 15,
   "id": "3593fe11-076d-4aaf-a1d8-bd65fc2426f9",
   "metadata": {},
   "outputs": [],
   "source": [
    "def manual_df(x):\n",
    "    return 3*x**2 + 10*x"
   ]
  },
  {
   "cell_type": "markdown",
   "id": "66194e2c-75a7-4cd2-aeba-6779359bb1af",
   "metadata": {},
   "source": [
    "but we don't want to hand differentiate things as there's going to tons of these in a neural network.\n",
    "\n",
    "let's use jax `grad` fn."
   ]
  },
  {
   "cell_type": "code",
   "execution_count": 16,
   "id": "afb3c99a-a9c5-4fd3-98f8-f3436a6645d2",
   "metadata": {},
   "outputs": [],
   "source": [
    "from jax import grad"
   ]
  },
  {
   "cell_type": "code",
   "execution_count": 17,
   "id": "ee2fd345-9d44-45b7-b42c-2938530f06d6",
   "metadata": {},
   "outputs": [],
   "source": [
    "grad_df = grad(f)"
   ]
  },
  {
   "cell_type": "markdown",
   "id": "e6ef8eba-3f09-49a7-ae8e-ad515eb778af",
   "metadata": {},
   "source": [
    "Now, let's compare those two."
   ]
  },
  {
   "cell_type": "code",
   "execution_count": 18,
   "id": "352aad4b-c96e-4878-94e5-a79fd645ba9c",
   "metadata": {},
   "outputs": [
    {
     "data": {
      "text/plain": [
       "88.0"
      ]
     },
     "execution_count": 18,
     "metadata": {},
     "output_type": "execute_result"
    }
   ],
   "source": [
    "manual_df(4.0)"
   ]
  },
  {
   "cell_type": "code",
   "execution_count": 19,
   "id": "9111e719-6a96-4e36-9a7c-75944a5f29d0",
   "metadata": {},
   "outputs": [
    {
     "data": {
      "text/plain": [
       "DeviceArray(88., dtype=float32)"
      ]
     },
     "execution_count": 19,
     "metadata": {},
     "output_type": "execute_result"
    }
   ],
   "source": [
    "grad_df(4.0)"
   ]
  },
  {
   "cell_type": "markdown",
   "id": "0dade4f4-3b51-4eac-b856-36b6f92d8cac",
   "metadata": {},
   "source": [
    "Now, just imagine that we can do this on a neural network scale automatically, jit all the functions, then run it on accelerators."
   ]
  },
  {
   "cell_type": "markdown",
   "id": "bb5ad76c-68a3-44e4-89af-1f3670194e0f",
   "metadata": {},
   "source": [
    "### Let's now vectorize a function (similar to broadcasting in numpy)"
   ]
  },
  {
   "cell_type": "code",
   "execution_count": 20,
   "id": "b8b6f417-258e-4f17-9b38-ed09d19f3e3b",
   "metadata": {},
   "outputs": [],
   "source": [
    "def square_sum(x):\n",
    "    return jnp.sum(x**2)"
   ]
  },
  {
   "cell_type": "code",
   "execution_count": 21,
   "id": "8d96710e-4971-4d44-b53e-df5e1a4b0303",
   "metadata": {},
   "outputs": [
    {
     "data": {
      "text/plain": [
       "DeviceArray([[ 0,  1,  2,  3,  4,  5,  6,  7,  8,  9],\n",
       "             [10, 11, 12, 13, 14, 15, 16, 17, 18, 19],\n",
       "             [20, 21, 22, 23, 24, 25, 26, 27, 28, 29],\n",
       "             [30, 31, 32, 33, 34, 35, 36, 37, 38, 39],\n",
       "             [40, 41, 42, 43, 44, 45, 46, 47, 48, 49],\n",
       "             [50, 51, 52, 53, 54, 55, 56, 57, 58, 59],\n",
       "             [60, 61, 62, 63, 64, 65, 66, 67, 68, 69],\n",
       "             [70, 71, 72, 73, 74, 75, 76, 77, 78, 79],\n",
       "             [80, 81, 82, 83, 84, 85, 86, 87, 88, 89],\n",
       "             [90, 91, 92, 93, 94, 95, 96, 97, 98, 99]], dtype=int32)"
      ]
     },
     "execution_count": 21,
     "metadata": {},
     "output_type": "execute_result"
    }
   ],
   "source": [
    "xs = jnp.arange(100).reshape(10,10)\n",
    "xs"
   ]
  },
  {
   "cell_type": "code",
   "execution_count": 22,
   "id": "3e6411ef-d546-4468-807e-cd153e8c20c9",
   "metadata": {},
   "outputs": [
    {
     "data": {
      "text/plain": [
       "[DeviceArray(285, dtype=int32),\n",
       " DeviceArray(2185, dtype=int32),\n",
       " DeviceArray(6085, dtype=int32),\n",
       " DeviceArray(11985, dtype=int32),\n",
       " DeviceArray(19885, dtype=int32),\n",
       " DeviceArray(29785, dtype=int32),\n",
       " DeviceArray(41685, dtype=int32),\n",
       " DeviceArray(55585, dtype=int32),\n",
       " DeviceArray(71485, dtype=int32),\n",
       " DeviceArray(89385, dtype=int32)]"
      ]
     },
     "execution_count": 22,
     "metadata": {},
     "output_type": "execute_result"
    }
   ],
   "source": [
    "[square_sum(x) for x in xs]"
   ]
  },
  {
   "cell_type": "markdown",
   "id": "805af36c-9dad-479e-bfa1-092ed70960ab",
   "metadata": {},
   "source": [
    "but, this is inefficient. Instead we can vectorize this."
   ]
  },
  {
   "cell_type": "code",
   "execution_count": 23,
   "id": "1af3c71b-3236-4f07-b117-a79f6b7d6128",
   "metadata": {},
   "outputs": [],
   "source": [
    "from jax import vmap"
   ]
  },
  {
   "cell_type": "code",
   "execution_count": 24,
   "id": "731f88f9-31be-4ff7-a373-ef52d894cf5e",
   "metadata": {},
   "outputs": [
    {
     "data": {
      "text/plain": [
       "DeviceArray([  285,  2185,  6085, 11985, 19885, 29785, 41685, 55585,\n",
       "             71485, 89385], dtype=int32)"
      ]
     },
     "execution_count": 24,
     "metadata": {},
     "output_type": "execute_result"
    }
   ],
   "source": [
    "vmap(square_sum)(xs)"
   ]
  },
  {
   "cell_type": "markdown",
   "id": "562b48ae-88ab-4755-9426-f097f18ffb0b",
   "metadata": {},
   "source": [
    "fairly complex under the hood in how this is optmized. transforming multiple function calls into a batch function call."
   ]
  },
  {
   "cell_type": "markdown",
   "id": "4fa675cd-76c2-41b6-90f2-6cb64376be73",
   "metadata": {},
   "source": [
    "## Tomorrow we'll dig deeper into how JAX works and pulls off these operations"
   ]
  },
  {
   "cell_type": "code",
   "execution_count": null,
   "id": "942dc8c6-7a26-4a91-b2b6-627489e4bcc8",
   "metadata": {},
   "outputs": [],
   "source": []
  }
 ],
 "metadata": {
  "kernelspec": {
   "display_name": "Python 3 (ipykernel)",
   "language": "python",
   "name": "python3"
  },
  "language_info": {
   "codemirror_mode": {
    "name": "ipython",
    "version": 3
   },
   "file_extension": ".py",
   "mimetype": "text/x-python",
   "name": "python",
   "nbconvert_exporter": "python",
   "pygments_lexer": "ipython3",
   "version": "3.7.11"
  }
 },
 "nbformat": 4,
 "nbformat_minor": 5
}
