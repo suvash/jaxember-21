{
 "cells": [
  {
   "cell_type": "markdown",
   "id": "7e422024-adcf-4181-a20a-c294393246f1",
   "metadata": {},
   "source": [
    "# 06 - Stateful computation in JAX"
   ]
  },
  {
   "cell_type": "markdown",
   "id": "a2df18ed-1f28-45b1-ae32-1cb8fd4370c7",
   "metadata": {},
   "source": [
    "All programs need to deal with state. In ML, program state often is seen in the form of\n",
    "\n",
    "- model parametrs\n",
    "- optimizer state, as well as\n",
    "- stateful layers, such as BatchNorm"
   ]
  },
  {
   "cell_type": "markdown",
   "id": "2eaf5a30-eef4-4393-976d-1d9dae71b7b8",
   "metadata": {},
   "source": [
    "As we already know by now, JAX transformations such as `jax.jit` impose constraints on the functions they transform.\n",
    "These functions must have no side effects. Else, the side-effects will only be executed once, for the first time when it's compiled to the jitted version. On subsequent runs, there will be no side-effects."
   ]
  },
  {
   "cell_type": "markdown",
   "id": "3d966494-fc69-4962-8b93-3c6b3933d09b",
   "metadata": {},
   "source": [
    "Modification of program state is also a kind of side-effect. So, how does JAX deal with updating program state if it does not allow for side effects during function runs. Let's dig a bit more into it."
   ]
  },
  {
   "cell_type": "markdown",
   "id": "f61ef555-a8c9-4cd4-8656-fa1a59b407f3",
   "metadata": {},
   "source": [
    "## A simple example : Counter"
   ]
  },
  {
   "cell_type": "code",
   "execution_count": 1,
   "id": "36463e89-322a-4e30-bcf5-3b3395b1243c",
   "metadata": {},
   "outputs": [
    {
     "name": "stdout",
     "output_type": "stream",
     "text": [
      "1\n",
      "2\n",
      "3\n",
      "4\n",
      "5\n"
     ]
    }
   ],
   "source": [
    "import jax\n",
    "import jax.numpy as jnp\n",
    "\n",
    "class Counter:\n",
    "    def __init__(self):\n",
    "        self.n = 0\n",
    "        \n",
    "    def count(self) -> int:\n",
    "        self.n += 1\n",
    "        return self.n\n",
    "    \n",
    "    def reset(self):\n",
    "        self.n = 0\n",
    "        \n",
    "counter = Counter()\n",
    "\n",
    "for _ in range(5):\n",
    "    print(counter.count())"
   ]
  },
  {
   "cell_type": "markdown",
   "id": "56cb3669-b33f-476b-b547-648ae80cac44",
   "metadata": {},
   "source": [
    "Now, what if we jit this function."
   ]
  },
  {
   "cell_type": "code",
   "execution_count": 2,
   "id": "d448ec93-6c0e-478f-997e-d4ad7e902a6c",
   "metadata": {},
   "outputs": [],
   "source": [
    "counter.reset()"
   ]
  },
  {
   "cell_type": "code",
   "execution_count": 3,
   "id": "fce74ea8-7db5-4519-be0e-5500503c1667",
   "metadata": {},
   "outputs": [],
   "source": [
    "jit_count = jax.jit(counter.count)"
   ]
  },
  {
   "cell_type": "code",
   "execution_count": 4,
   "id": "99f9a87f-7068-41fc-aff0-f99d3aa5001d",
   "metadata": {},
   "outputs": [
    {
     "name": "stdout",
     "output_type": "stream",
     "text": [
      "1\n",
      "1\n",
      "1\n",
      "1\n",
      "1\n"
     ]
    }
   ],
   "source": [
    "for _ in range(5):\n",
    "    print(jit_count())"
   ]
  },
  {
   "cell_type": "markdown",
   "id": "1cca5d8e-e901-4397-818e-da628833a386",
   "metadata": {},
   "source": [
    "well, now you see what we mean by side effects not being allowed."
   ]
  },
  {
   "cell_type": "markdown",
   "id": "2643d624-3515-4b9e-89dc-8c157f6dfde2",
   "metadata": {},
   "source": [
    "### Explicit state"
   ]
  },
  {
   "cell_type": "markdown",
   "id": "813e37df-56ec-4c69-8dad-f71a3c9a537b",
   "metadata": {},
   "source": [
    "As made popular by Function Programming style, state can me managed my making it explicit. i. e. instead of hiding state, pass it as an argument to the function itself."
   ]
  },
  {
   "cell_type": "code",
   "execution_count": 5,
   "id": "9d7c55d2-3aa3-4cb2-bf0e-5d18b13dae13",
   "metadata": {},
   "outputs": [],
   "source": [
    "class CounterWithState:\n",
    "    def count(self, n):\n",
    "        return n+1, n+1\n",
    "    \n",
    "    def reset(self):\n",
    "        return 0"
   ]
  },
  {
   "cell_type": "code",
   "execution_count": 6,
   "id": "8fb81cd5-27b4-4c1a-a393-ff06c46c8bf4",
   "metadata": {},
   "outputs": [
    {
     "data": {
      "text/plain": [
       "0"
      ]
     },
     "execution_count": 6,
     "metadata": {},
     "output_type": "execute_result"
    }
   ],
   "source": [
    "counter = CounterWithState()\n",
    "state = counter.reset()\n",
    "state"
   ]
  },
  {
   "cell_type": "code",
   "execution_count": 7,
   "id": "d7fe88f4-efa0-4bd9-bc03-224e5f74f388",
   "metadata": {},
   "outputs": [
    {
     "name": "stdout",
     "output_type": "stream",
     "text": [
      "1\n",
      "2\n",
      "3\n",
      "4\n",
      "5\n"
     ]
    }
   ],
   "source": [
    "for _ in range(5):\n",
    "    value, state = counter.count(state)\n",
    "    print(value)"
   ]
  },
  {
   "cell_type": "markdown",
   "id": "9294c2d5-485d-4499-bbff-b5b51e777750",
   "metadata": {},
   "source": [
    "Now, let's jit this and see."
   ]
  },
  {
   "cell_type": "code",
   "execution_count": 8,
   "id": "1962d50d-8e57-49d0-8673-94b599810976",
   "metadata": {},
   "outputs": [],
   "source": [
    "state = counter.reset()\n",
    "jit_count = jax.jit(counter.count)"
   ]
  },
  {
   "cell_type": "code",
   "execution_count": 9,
   "id": "be898e90-10d3-4a34-92c5-9186ccfd5f58",
   "metadata": {},
   "outputs": [
    {
     "name": "stdout",
     "output_type": "stream",
     "text": [
      "1\n",
      "2\n",
      "3\n",
      "4\n",
      "5\n"
     ]
    }
   ],
   "source": [
    "for _ in range(5):\n",
    "    value, state = jit_count(state)\n",
    "    print(value)"
   ]
  },
  {
   "cell_type": "markdown",
   "id": "170b5981-4efe-473d-a876-2bf49ded5479",
   "metadata": {},
   "source": [
    "## That's really all there is to it."
   ]
  },
  {
   "cell_type": "markdown",
   "id": "8bc7df8d-66ae-474e-8463-f238adf17010",
   "metadata": {},
   "source": [
    "Make all state explicit by providing it to functions as arguments. That way the hidden state isn't baked in the jitted function.\n",
    "\n",
    "When there's no hidden state, only the computation is jitted, and the state gets to stay outside of the jitted function"
   ]
  },
  {
   "cell_type": "markdown",
   "id": "7f902a79-1bca-4f2c-ae04-a93210bdb635",
   "metadata": {},
   "source": [
    "### Does it really make sense to use classes anymore ?"
   ]
  },
  {
   "cell_type": "markdown",
   "id": "057b59bc-78e3-4622-b3e2-02a1445b018a",
   "metadata": {},
   "source": [
    "Now that the main purpose of OOP class, which is to manage state is on really used, it's a lot simpler to have functions in a namespace."
   ]
  },
  {
   "cell_type": "markdown",
   "id": "a475fdcc-6de6-4cf7-9af9-63ca1bd2e201",
   "metadata": {},
   "source": [
    "### Can you now see the how/why the RNG state is now managed via functions and the state is made explicit ?"
   ]
  },
  {
   "cell_type": "markdown",
   "id": "ff135668-160f-4fa8-9498-e9d5d2af5d28",
   "metadata": {},
   "source": [
    "The example we worked in previous chapter can now be reworked using functions passing state.\n",
    "\n",
    "It can be a bit cumbersome to manage a lot of state expicitly, this is where other libraries built on top of jax come in handy"
   ]
  },
  {
   "cell_type": "code",
   "execution_count": null,
   "id": "b31ad1be-5589-4e9b-a145-a8267ff2ee03",
   "metadata": {},
   "outputs": [],
   "source": []
  }
 ],
 "metadata": {
  "kernelspec": {
   "display_name": "Python 3 (ipykernel)",
   "language": "python",
   "name": "python3"
  },
  "language_info": {
   "codemirror_mode": {
    "name": "ipython",
    "version": 3
   },
   "file_extension": ".py",
   "mimetype": "text/x-python",
   "name": "python",
   "nbconvert_exporter": "python",
   "pygments_lexer": "ipython3",
   "version": "3.7.11"
  }
 },
 "nbformat": 4,
 "nbformat_minor": 5
}
