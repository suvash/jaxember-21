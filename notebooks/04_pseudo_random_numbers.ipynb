{
 "cells": [
  {
   "cell_type": "markdown",
   "id": "e9debcfd-befa-46fa-a9b9-449a717392a3",
   "metadata": {},
   "source": [
    "# 04 - Pseudo Random numbers in JAX"
   ]
  },
  {
   "cell_type": "markdown",
   "id": "3d65b121-07c9-4040-926a-8066b45f5489",
   "metadata": {},
   "source": [
    "PRNG-generated sequences are not truly random because they are actually determined by their initial value, which is typically referred to as the `seed`, and each step of random sampling is a deterministic function of some state that is carried over from a sample to the next."
   ]
  },
  {
   "cell_type": "markdown",
   "id": "affd3a11-4fcf-4c42-b182-939b534b6841",
   "metadata": {},
   "source": [
    "Let's look into how pseudo random numbers (PRNG) works in JAX and also compare them to Numpy. JAX has tried to stay compatible to numpy in most of the cases, but random number generation is a notable exception."
   ]
  },
  {
   "cell_type": "markdown",
   "id": "3e26a88d-3d38-4979-a8bb-85244f5637b1",
   "metadata": {},
   "source": [
    "## Random numbers in Numpy"
   ]
  },
  {
   "cell_type": "markdown",
   "id": "370ab63e-3c2a-490b-b633-8c80e71ffc9e",
   "metadata": {},
   "source": [
    "Let's look into this first, then we can set aside the context for why JAX PRNGs are differently designed."
   ]
  },
  {
   "cell_type": "markdown",
   "id": "1a2b9d22-288b-4f99-a04c-ca4f050cb3bd",
   "metadata": {},
   "source": [
    "PRNGs are natively supported in numpy by `numpy.random` module."
   ]
  },
  {
   "cell_type": "code",
   "execution_count": 1,
   "id": "d47cabbb-b1d5-4078-8559-28b31ea0e269",
   "metadata": {},
   "outputs": [],
   "source": [
    "import numpy as np"
   ]
  },
  {
   "cell_type": "markdown",
   "id": "a783b41a-d3e3-4927-947c-c56a25007847",
   "metadata": {},
   "source": [
    "In `numpy`, the PRNG is seeded based on a global state. This can be set to a deterministic initial condition using `random.seed(SEED)`."
   ]
  },
  {
   "cell_type": "code",
   "execution_count": 2,
   "id": "bdb914b4-866c-4003-b7c3-eba04a633f4d",
   "metadata": {},
   "outputs": [],
   "source": [
    "np.random.seed(36)"
   ]
  },
  {
   "cell_type": "markdown",
   "id": "cb564b38-19fb-4632-8f80-1705afbc88cd",
   "metadata": {},
   "source": [
    "In fact, the state can be inspected."
   ]
  },
  {
   "cell_type": "code",
   "execution_count": 3,
   "id": "b91707c8-8808-4885-8446-16a56245bc9a",
   "metadata": {},
   "outputs": [
    {
     "name": "stdout",
     "output_type": "stream",
     "text": [
      "8403\n",
      "('MT19937', array([        36,  823087669,  696044523, 3737794234, 2820642817,\n",
      "       2833617972, 1415470932, 1100159376, 1991159613, 1767259829,\n",
      "       1568739598, 3245720054,   32809653, 2139754102, 3430310913,\n",
      "       2588444377, 3267716983, 1080747221, 1349368758, 3401645638,\n",
      "       1444560461, 3351592977, 3097094448, 2866987729,  494848087,\n",
      "       2862389612, 3085330048, 2152727397, 4248073919, 2288088137,\n",
      "       3350987957, 1420640749, 2115391036, 2388034354, 1252422162,\n",
      "       2839293090,  ...\n"
     ]
    }
   ],
   "source": [
    "def print_truncated_random_state():\n",
    "  \"\"\"To avoid spamming the outputs, print only part of the state.\"\"\"\n",
    "  full_random_state = np.random.get_state()\n",
    "  print(len(str(full_random_state)))\n",
    "  print(str(full_random_state)[:500], '...')\n",
    "\n",
    "print_truncated_random_state()"
   ]
  },
  {
   "cell_type": "markdown",
   "id": "bde859ad-e635-48bb-8726-bfd34774dc6a",
   "metadata": {},
   "source": [
    "Each call to the `random` function updates the global state. Eww !"
   ]
  },
  {
   "cell_type": "code",
   "execution_count": 4,
   "id": "041c6895-297e-43f8-94e1-6edd5285f936",
   "metadata": {},
   "outputs": [
    {
     "name": "stdout",
     "output_type": "stream",
     "text": [
      "8403\n",
      "('MT19937', array([        23, 3031259156, 3173090992, 1445815869, 1732473264,\n",
      "       2638910426,  577956926, 3044434557,  937677603, 2194999256,\n",
      "       3459629836, 3389127670,   38896821, 2267101302, 2457688530,\n",
      "        355778335, 3857710667, 2059131513, 2370791786,   26557979,\n",
      "       2497377211, 2631870738,  812958566, 4201426261, 4210911494,\n",
      "       2656115730, 1651810922, 3621541714, 2749352977,   67546780,\n",
      "       3227017130,  397291212, 3864502940, 1291010012, 2217768787,\n",
      "       2251320344,  ...\n",
      "8401\n",
      "('MT19937', array([3522410815, 1382385284, 3929362074,   89751983, 1112872297,\n",
      "       3468941588, 1499619521, 1355273773,   75167798, 1269066014,\n",
      "        527286388, 2177645083, 4278068079, 2034671876, 1876867660,\n",
      "       3028544392, 1394522484,  217078226, 3444565392, 3482965672,\n",
      "       3497498513,  518145367, 2574711433, 2728720787,  214702893,\n",
      "       3157849866,   55286010, 1769700016, 1797375436, 3031781153,\n",
      "       1878523871, 1975386855, 3598775579, 4134989655, 1925354563,\n",
      "        328341992,  ...\n"
     ]
    }
   ],
   "source": [
    "np.random.seed(23)\n",
    "\n",
    "print_truncated_random_state()\n",
    "\n",
    "_ = np.random.uniform()\n",
    "\n",
    "print_truncated_random_state()"
   ]
  },
  {
   "cell_type": "markdown",
   "id": "934ecb0a-8221-40ca-8d41-0615cae583ff",
   "metadata": {},
   "source": [
    "Numpy API allows for both scalar or a vector of random numbers to be sampled in a single function call."
   ]
  },
  {
   "cell_type": "code",
   "execution_count": 5,
   "id": "3963f632-b60a-458d-8833-9bad5ddc9c03",
   "metadata": {},
   "outputs": [
    {
     "name": "stdout",
     "output_type": "stream",
     "text": [
      "[0.51729788 0.9469626  0.76545976]\n"
     ]
    }
   ],
   "source": [
    "np.random.seed(23)\n",
    "print(np.random.uniform(size=3))"
   ]
  },
  {
   "cell_type": "markdown",
   "id": "5312ab5e-74e6-4c43-896c-d41cc96fba4c",
   "metadata": {},
   "source": [
    "Most importantly, NumPy provides a sequential equivalent guarantee, meaning that sampling N numbers in a row individually or sampling a vector of N numbers results in the same pseudo-random sequences:"
   ]
  },
  {
   "cell_type": "code",
   "execution_count": 6,
   "id": "84e327e1-7bc9-4570-bddc-d34d56837ed2",
   "metadata": {},
   "outputs": [
    {
     "name": "stdout",
     "output_type": "stream",
     "text": [
      "individually: [0.51394334 0.77316505 0.87042769]\n",
      "all at once:  [0.51394334 0.77316505 0.87042769]\n"
     ]
    }
   ],
   "source": [
    "np.random.seed(14)\n",
    "print(\"individually:\", np.stack([np.random.uniform() for _ in range(3)]))\n",
    "\n",
    "np.random.seed(14)\n",
    "print(\"all at once: \", np.random.uniform(size=3))"
   ]
  },
  {
   "cell_type": "markdown",
   "id": "b2b67ba1-0e65-4568-baf7-71ca3c42b267",
   "metadata": {},
   "source": [
    "## Random numbers in JAX"
   ]
  },
  {
   "cell_type": "markdown",
   "id": "6236157e-67fd-424a-a741-318b04b62b39",
   "metadata": {},
   "source": [
    "Random numbers in JAX is significantly different in an ode to Functional thinking. Moreover, the RNG design in Numpy makes certain desirable properties in JAX harder to achieve:\n",
    "\n",
    "- reproducible,\n",
    "- parallelizable,\n",
    "- vectorisable."
   ]
  },
  {
   "cell_type": "markdown",
   "id": "f4bf6e19-efca-49de-a66d-721ced9d4edf",
   "metadata": {},
   "source": [
    "Let's first look into some of the problems associated with global random state in numpy"
   ]
  },
  {
   "cell_type": "markdown",
   "id": "eda234d4-f013-400c-94e7-762bf71ac333",
   "metadata": {},
   "source": [
    "The code below sums two scalar sampled from a uniform distribution."
   ]
  },
  {
   "cell_type": "code",
   "execution_count": 7,
   "id": "83bcfdaa-a713-4f96-8204-1223abd0b0b3",
   "metadata": {},
   "outputs": [
    {
     "name": "stdout",
     "output_type": "stream",
     "text": [
      "1.9791922366721637\n"
     ]
    }
   ],
   "source": [
    "import numpy as np\n",
    "\n",
    "np.random.seed(0)\n",
    "\n",
    "def bar(): return np.random.uniform()\n",
    "def baz(): return np.random.uniform()\n",
    "\n",
    "def foo(): return bar() + 2 * baz()\n",
    "\n",
    "print(foo())"
   ]
  },
  {
   "cell_type": "markdown",
   "id": "99c96b07-0ef9-48d7-a987-23aab922f449",
   "metadata": {},
   "source": [
    "Now, this function can only be `reproducible` if we assume a specific order of execution for `bar` and `baz`"
   ]
  },
  {
   "cell_type": "markdown",
   "id": "b28289d8-8fc9-423b-a472-495e804356da",
   "metadata": {},
   "source": [
    "This is not a problem in Numpy+Python, but becomes problematic in JAX when we want to be able to jit and parallelize functions that don't depend on each other."
   ]
  },
  {
   "cell_type": "markdown",
   "id": "ced84d92-3227-4930-bcdb-549c26932666",
   "metadata": {},
   "source": [
    "To avoid this issue, JAX doesn't consume a global state, instead random functions explicitly consume state, which is referred to as `key`. Hence, the concept of global `seed` and `state` instead is replace by a per-function call `key`"
   ]
  },
  {
   "cell_type": "code",
   "execution_count": 8,
   "id": "5f1894d7-2340-4e42-a386-ab8778ffb787",
   "metadata": {},
   "outputs": [
    {
     "name": "stdout",
     "output_type": "stream",
     "text": [
      "[ 0 36]\n"
     ]
    }
   ],
   "source": [
    "from jax import random\n",
    "\n",
    "key = random.PRNGKey(36)\n",
    "\n",
    "print(key)"
   ]
  },
  {
   "cell_type": "markdown",
   "id": "2d735a3b-55e0-4f65-9e44-c28915436410",
   "metadata": {},
   "source": [
    "A key is simply an array of shape (2,)"
   ]
  },
  {
   "cell_type": "markdown",
   "id": "51b739a5-c1f3-4ada-a24a-b34f3b01625e",
   "metadata": {},
   "source": [
    "Random functions consume the key, but do not modify it. Feeding the same key to a random function will always result in the same sample being generated."
   ]
  },
  {
   "cell_type": "code",
   "execution_count": 9,
   "id": "f3f50740-ed82-4ed0-bc0a-fb62ac2bde5d",
   "metadata": {},
   "outputs": [
    {
     "name": "stdout",
     "output_type": "stream",
     "text": [
      "-0.5886091\n",
      "-0.5886091\n",
      "-0.5886091\n",
      "-0.5886091\n"
     ]
    }
   ],
   "source": [
    "print(random.normal(key))\n",
    "print(random.normal(key))\n",
    "print(random.normal(key))\n",
    "print(random.normal(key))"
   ]
  },
  {
   "cell_type": "markdown",
   "id": "f11836ee-14d4-41c0-99de-2083ad95bece",
   "metadata": {
    "tags": []
   },
   "source": [
    "### Never reuse keys "
   ]
  },
  {
   "cell_type": "markdown",
   "id": "1a9191ed-d91e-44b6-aad3-d98b900ffb8f",
   "metadata": {},
   "source": [
    "⛔️ Feeding the same key to different random functions can result in correlated outputs, which is generally undesirable."
   ]
  },
  {
   "cell_type": "markdown",
   "id": "0e8e1b1d-4e47-4d2d-bb2b-8b0a8e18e622",
   "metadata": {},
   "source": [
    "In order to generate different and independent samples, the key must be `split()` whenever you want to call a random function:"
   ]
  },
  {
   "cell_type": "code",
   "execution_count": 10,
   "id": "2061a1c4-ac4d-42b4-a307-0965807dc88d",
   "metadata": {},
   "outputs": [
    {
     "name": "stdout",
     "output_type": "stream",
     "text": [
      "old key [ 0 36]\n",
      "    \\---SPLIT --> new key    [ 929388900 1617983450]\n",
      "             \\--> new subkey [1033240276 1828762053] --> normal 0.82549185\n"
     ]
    }
   ],
   "source": [
    "print(\"old key\", key)\n",
    "new_key, subkey = random.split(key)\n",
    "del key  # The old key is discarded -- we must never use it again.\n",
    "normal_sample = random.normal(subkey)\n",
    "print(r\"    \\---SPLIT --> new key   \", new_key)\n",
    "print(r\"             \\--> new subkey\", subkey, \"--> normal\", normal_sample)\n",
    "del subkey  # The subkey is also discarded after use."
   ]
  },
  {
   "cell_type": "markdown",
   "id": "76e6374c-ce58-40e3-93de-aefff4550cbc",
   "metadata": {},
   "source": [
    "**The crucial point is that you never use the same PRNGKey twice.**"
   ]
  },
  {
   "cell_type": "markdown",
   "id": "7bcede31-656d-4522-a1bb-e6bc1a607559",
   "metadata": {},
   "source": [
    "It's not super relevant which part of the split is called a key and which part is called the subkey, they're all pseudorandom numbers of equal status, the naming is just for the sake of convention, subkeys are immediately consumed while keys are used for further generation."
   ]
  },
  {
   "cell_type": "markdown",
   "id": "dd31bd55-aeaa-4d3a-851f-d99f15384328",
   "metadata": {},
   "source": [
    "Using this convention below, one can immediately discard the old key automatically"
   ]
  },
  {
   "cell_type": "code",
   "execution_count": 11,
   "id": "b49d8553-02bd-4828-8e6b-e4681a5d6892",
   "metadata": {},
   "outputs": [
    {
     "data": {
      "text/plain": [
       "DeviceArray([ 0, 36], dtype=uint32)"
      ]
     },
     "execution_count": 11,
     "metadata": {},
     "output_type": "execute_result"
    }
   ],
   "source": [
    "key = random.PRNGKey(36)\n",
    "key"
   ]
  },
  {
   "cell_type": "code",
   "execution_count": 12,
   "id": "e9c62d9f-ccc0-4aee-b73c-e0a698151448",
   "metadata": {},
   "outputs": [
    {
     "data": {
      "text/plain": [
       "array([ 929388900, 1617983450], dtype=uint32)"
      ]
     },
     "execution_count": 12,
     "metadata": {},
     "output_type": "execute_result"
    }
   ],
   "source": [
    "key, subkey = random.split(key)\n",
    "key"
   ]
  },
  {
   "cell_type": "markdown",
   "id": "28c16328-7128-4c5f-9515-8b64a1c8a3cb",
   "metadata": {},
   "source": [
    "`split` can create as many keys as needed, not just 2."
   ]
  },
  {
   "cell_type": "code",
   "execution_count": 13,
   "id": "80160ddb-350f-4114-9d03-27acdf8d7afc",
   "metadata": {},
   "outputs": [],
   "source": [
    "key, *twenty_five_subkeys = random.split(key, num=26)"
   ]
  },
  {
   "cell_type": "code",
   "execution_count": 14,
   "id": "df6d2be7-47c7-4bc1-84db-32e19197b029",
   "metadata": {},
   "outputs": [
    {
     "data": {
      "text/plain": [
       "25"
      ]
     },
     "execution_count": 14,
     "metadata": {},
     "output_type": "execute_result"
    }
   ],
   "source": [
    "len(twenty_five_subkeys)"
   ]
  },
  {
   "cell_type": "markdown",
   "id": "25497e05-324f-46c9-9a89-1142cd7c58e7",
   "metadata": {},
   "source": [
    "One another difference between NumPy’s and JAX’s random modules relates to the sequential equivalence guarantee. JAX does not provide a sequential equivalence guarantee, because doing so would interfere with the vectorization on SIMD hardware."
   ]
  },
  {
   "cell_type": "code",
   "execution_count": 15,
   "id": "9ff1bf73-f5fa-446d-ba66-5f374d4290a8",
   "metadata": {},
   "outputs": [
    {
     "name": "stdout",
     "output_type": "stream",
     "text": [
      "individually: [ 1.1654526  -0.22058551  1.3822567 ]\n",
      "all at once:  [-0.26694784 -0.9594315  -1.9316671 ]\n"
     ]
    }
   ],
   "source": [
    "import jax.numpy as jnp\n",
    "\n",
    "key = random.PRNGKey(71)\n",
    "subkeys = random.split(key, 3)\n",
    "sequence = jnp.stack([random.normal(subkey) for subkey in subkeys])\n",
    "print(\"individually:\", sequence)\n",
    "\n",
    "key = random.PRNGKey(71)\n",
    "print(\"all at once: \", random.normal(key, shape=(3,)))"
   ]
  },
  {
   "cell_type": "markdown",
   "id": "6587b181-db54-4b2f-9350-41739c4e321f",
   "metadata": {},
   "source": [
    "This is all for today. Tomorrow, we'll look into working with nested data structures in JAX."
   ]
  }
 ],
 "metadata": {
  "kernelspec": {
   "display_name": "Python 3 (ipykernel)",
   "language": "python",
   "name": "python3"
  },
  "language_info": {
   "codemirror_mode": {
    "name": "ipython",
    "version": 3
   },
   "file_extension": ".py",
   "mimetype": "text/x-python",
   "name": "python",
   "nbconvert_exporter": "python",
   "pygments_lexer": "ipython3",
   "version": "3.7.11"
  }
 },
 "nbformat": 4,
 "nbformat_minor": 5
}
