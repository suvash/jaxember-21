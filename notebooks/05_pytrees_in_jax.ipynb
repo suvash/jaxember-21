{
 "cells": [
  {
   "cell_type": "markdown",
   "id": "b1649997-f90b-4dc1-bcd0-727d31a81e52",
   "metadata": {},
   "source": [
    "# 05 - Pytrees (Nested data structures) in JAX"
   ]
  },
  {
   "cell_type": "markdown",
   "id": "fdcfe445-d617-48bc-9f7e-1cc2551fe9be",
   "metadata": {},
   "source": [
    "There's a need to operate on a collection of objects that sometimes seem like a list, list of list, list of dicts etc. or some other nested data structures. Such nested structures are called `pytrees`, or simple `trees`.\n",
    "\n",
    "JAX has built-in support to operate on such structures via the `jax.tree_utils` module. A bunch of functions are available in the module."
   ]
  },
  {
   "cell_type": "markdown",
   "id": "0b92b832-37d0-4776-be3c-fa7a42c4d656",
   "metadata": {
    "tags": []
   },
   "source": [
    "### What is a `pytree` ?"
   ]
  },
  {
   "cell_type": "markdown",
   "id": "3b34bac8-3f1a-41ce-94b9-526b8ff9ef0b",
   "metadata": {},
   "source": [
    "A `pytree` is a container of a) leaf elements and/or b) more pytrees. \n",
    "\n",
    "- Containers include lists, tuples, and dicts.\n",
    "- A leaf element is anything that’s not a pytree, e.g. an array. \n",
    "\n",
    "A pytree is just a possibly-nested standard or user-registered Python container. When nested the container types do not need to match."
   ]
  },
  {
   "cell_type": "markdown",
   "id": "22c666be-7bda-4128-91e4-09c53ca15be3",
   "metadata": {
    "tags": []
   },
   "source": [
    "### Some examples"
   ]
  },
  {
   "cell_type": "code",
   "execution_count": 1,
   "id": "003637a1-c160-4d82-a4f7-2c7415cc9963",
   "metadata": {},
   "outputs": [],
   "source": [
    "import jax\n",
    "import jax.numpy as jnp"
   ]
  },
  {
   "cell_type": "code",
   "execution_count": 2,
   "id": "d0f38762-33a2-41ab-a28d-c178e9ebf658",
   "metadata": {},
   "outputs": [],
   "source": [
    "example_trees = [\n",
    "    [1, 'a', object()],\n",
    "    (1, (2, 3), ()),\n",
    "    [1, {'k1': 2, 'k2': (3, 4)}, 5],\n",
    "    {'a': 2, 'b': (2, 3)},\n",
    "    jnp.array([1, 2, 3]),\n",
    "]"
   ]
  },
  {
   "cell_type": "code",
   "execution_count": 3,
   "id": "cced4d49-6bc2-469e-bc66-34706190c084",
   "metadata": {},
   "outputs": [
    {
     "name": "stdout",
     "output_type": "stream",
     "text": [
      "[1, 'a', <object object at 0x7ffa141fdf10>]   has 3 leaves: [1, 'a', <object object at 0x7ffa141fdf10>]\n",
      "(1, (2, 3), ())                               has 3 leaves: [1, 2, 3]\n",
      "[1, {'k1': 2, 'k2': (3, 4)}, 5]               has 5 leaves: [1, 2, 3, 4, 5]\n",
      "{'a': 2, 'b': (2, 3)}                         has 3 leaves: [2, 2, 3]\n",
      "DeviceArray([1, 2, 3], dtype=int32)           has 1 leaves: [DeviceArray([1, 2, 3], dtype=int32)]\n"
     ]
    }
   ],
   "source": [
    "for pytree in example_trees:\n",
    "  leaves = jax.tree_leaves(pytree)\n",
    "  print(f\"{repr(pytree):<45} has {len(leaves)} leaves: {leaves}\")"
   ]
  },
  {
   "cell_type": "markdown",
   "id": "547a9d67-ed75-4873-9dc5-763e7af851f0",
   "metadata": {},
   "source": [
    "Note that in a dict, the values are considered the leaves."
   ]
  },
  {
   "cell_type": "markdown",
   "id": "a17dfe20-2ecc-4140-868b-0f07d63d31fc",
   "metadata": {},
   "source": [
    "### Why pytrees ?"
   ]
  },
  {
   "cell_type": "markdown",
   "id": "31defedf-363f-43ee-baf2-22f6f52bbc9a",
   "metadata": {},
   "source": [
    "These lists of lists of dicts and such occur naturally in Python (or dyn.lang.) when working with collections of data. They're basically found everywhere in Python, and also in ML related tasks."
   ]
  },
  {
   "cell_type": "markdown",
   "id": "983dc5d0-8176-41ba-8264-eabae4221a1e",
   "metadata": {},
   "source": [
    "Let's look into some of the functions that allow operating on pytrees."
   ]
  },
  {
   "cell_type": "markdown",
   "id": "75efe801-3329-4512-bff6-ddcb80964e29",
   "metadata": {},
   "source": [
    "#### `jax.tree_map` & `jax.tree_multimap`"
   ]
  },
  {
   "cell_type": "markdown",
   "id": "55870708-b374-46b9-83d7-4df9055ac15c",
   "metadata": {},
   "source": [
    "works similarly to Python `map`, but works on entire pytrees."
   ]
  },
  {
   "cell_type": "code",
   "execution_count": 4,
   "id": "94e5232a-6e7a-4c04-8741-090afc64231d",
   "metadata": {},
   "outputs": [
    {
     "data": {
      "text/plain": [
       "[[2, 4, 6], [2, 4], [2, 4, 6, 8]]"
      ]
     },
     "execution_count": 4,
     "metadata": {},
     "output_type": "execute_result"
    }
   ],
   "source": [
    "list_of_lists = [\n",
    "    [1, 2, 3],\n",
    "    [1, 2],\n",
    "    [1, 2, 3, 4]\n",
    "]\n",
    "\n",
    "jax.tree_map(lambda x: x*2, list_of_lists)"
   ]
  },
  {
   "cell_type": "markdown",
   "id": "2785a08f-a167-4902-b7f9-f2dc0f8bd476",
   "metadata": {},
   "source": [
    "to map on functions with multiple arguments, multimap is used."
   ]
  },
  {
   "cell_type": "code",
   "execution_count": 5,
   "id": "4f141f33-f59c-4aa7-bd7b-270417942a53",
   "metadata": {},
   "outputs": [
    {
     "data": {
      "text/plain": [
       "[[5, 10, 15], [5, 10], [5, 10, 15, 20]]"
      ]
     },
     "execution_count": 5,
     "metadata": {},
     "output_type": "execute_result"
    }
   ],
   "source": [
    "another_list_of_lists = list_of_lists\n",
    "\n",
    "jax.tree_multimap(lambda x, y: 2*x+3*y, list_of_lists, another_list_of_lists)"
   ]
  },
  {
   "cell_type": "markdown",
   "id": "5696c25e-7f5e-4d79-bfa4-12d3d192f993",
   "metadata": {},
   "source": [
    "The important thing with `multimap` is that the input shapes must exactly match for the arguments"
   ]
  },
  {
   "cell_type": "markdown",
   "id": "a64c2aa9-c37f-4ab1-ab12-0b6bebcc8c9d",
   "metadata": {},
   "source": [
    "#### Simple training loop for a MLP"
   ]
  },
  {
   "cell_type": "markdown",
   "id": "b4b9ca35-b3b1-4e30-a65e-1c4d1875352a",
   "metadata": {},
   "source": [
    "Let's start with setting up a MLP structure"
   ]
  },
  {
   "cell_type": "code",
   "execution_count": 6,
   "id": "3e62fdb1-a938-4fc9-ab20-3bbee1102a55",
   "metadata": {},
   "outputs": [],
   "source": [
    "import numpy as np\n",
    "\n",
    "def init_mlp_params(layer_widths):\n",
    "  params = []\n",
    "  for n_in, n_out in zip(layer_widths[:-1], layer_widths[1:]):\n",
    "    params.append(\n",
    "        dict(weights=np.random.normal(size=(n_in, n_out)) * np.sqrt(2/n_in),\n",
    "             biases=np.ones(shape=(n_out,))\n",
    "            )\n",
    "    )\n",
    "  return params"
   ]
  },
  {
   "cell_type": "code",
   "execution_count": 7,
   "id": "9450668d-274b-492d-b751-d89e27595d54",
   "metadata": {},
   "outputs": [
    {
     "name": "stdout",
     "output_type": "stream",
     "text": [
      "1 128\n",
      "128 128\n",
      "128 1\n"
     ]
    }
   ],
   "source": [
    "for m,n in zip([1, 128, 128, 1][:-1], [1, 128, 128, 1][1:]):\n",
    "    print(m,n)"
   ]
  },
  {
   "cell_type": "code",
   "execution_count": 8,
   "id": "8433a078-2da3-4d2b-b812-b797fc38a159",
   "metadata": {},
   "outputs": [],
   "source": [
    "params = init_mlp_params([1, 128, 128, 1])"
   ]
  },
  {
   "cell_type": "code",
   "execution_count": 9,
   "id": "de033923-c306-40ac-93eb-0175c00efa2c",
   "metadata": {},
   "outputs": [
    {
     "data": {
      "text/plain": [
       "[{'biases': (128,), 'weights': (1, 128)},\n",
       " {'biases': (128,), 'weights': (128, 128)},\n",
       " {'biases': (1,), 'weights': (128, 1)}]"
      ]
     },
     "execution_count": 9,
     "metadata": {},
     "output_type": "execute_result"
    }
   ],
   "source": [
    "jax.tree_map(lambda x: x.shape, params)"
   ]
  },
  {
   "cell_type": "markdown",
   "id": "a368f3cc-8800-400b-b77b-e36ece25485c",
   "metadata": {},
   "source": [
    "Now, let's start the training."
   ]
  },
  {
   "cell_type": "code",
   "execution_count": 10,
   "id": "4c396ec0-618e-4a78-8031-8b835609bcbe",
   "metadata": {},
   "outputs": [],
   "source": [
    "def forward(params, x):\n",
    "    *hidden, last = params\n",
    "    for layer in hidden:\n",
    "        x = jax.nn.relu(x @ layer['weights'] + layer['biases'])\n",
    "    return x @ last['weights'] + last['weights']"
   ]
  },
  {
   "cell_type": "code",
   "execution_count": 11,
   "id": "311381a0-2c50-42fe-bd60-7024d36a8ea7",
   "metadata": {},
   "outputs": [],
   "source": [
    "def loss_fn(params, x, y):\n",
    "    return jnp.mean((forward(params, x) - y) ** 2)"
   ]
  },
  {
   "cell_type": "code",
   "execution_count": 12,
   "id": "cdde8aca-3c96-4778-af72-935658516dba",
   "metadata": {},
   "outputs": [],
   "source": [
    "LEARNING_RATE = 0.0001"
   ]
  },
  {
   "cell_type": "code",
   "execution_count": 13,
   "id": "ed182ef3-b999-43eb-82b3-858f862418f2",
   "metadata": {},
   "outputs": [],
   "source": [
    "@jax.jit\n",
    "def update(params, x, y):\n",
    "    grads = jax.grad(loss_fn)(params, x, y)\n",
    "    \n",
    "    # `jax.grad` has built-in support for pytrees\n",
    "    # grads has the same shape as params\n",
    "    \n",
    "    # SGD update using tree utils:\n",
    "    return jax.tree_multimap(\n",
    "        (lambda p, g: p - LEARNING_RATE * g), params, grads\n",
    "    )"
   ]
  },
  {
   "cell_type": "markdown",
   "id": "b127d173-4ab1-4f33-af9d-0f2609b18356",
   "metadata": {},
   "source": [
    "Now let's use the MLT to fit a model"
   ]
  },
  {
   "cell_type": "code",
   "execution_count": 14,
   "id": "1a341647-e312-43d8-a444-5a5cd9eb88e6",
   "metadata": {},
   "outputs": [],
   "source": [
    "import matplotlib.pyplot as plt"
   ]
  },
  {
   "cell_type": "code",
   "execution_count": 15,
   "id": "c11b54d0-1378-4601-8ac4-9038ac98747b",
   "metadata": {},
   "outputs": [],
   "source": [
    "xs = np.random.normal(size=(128, 1))\n",
    "ys = xs ** 2"
   ]
  },
  {
   "cell_type": "code",
   "execution_count": 16,
   "id": "c6c6aacc-b3ca-41f7-a0fe-3a7781bd3556",
   "metadata": {},
   "outputs": [
    {
     "data": {
      "text/plain": [
       "<matplotlib.collections.PathCollection at 0x7ff96827f850>"
      ]
     },
     "execution_count": 16,
     "metadata": {},
     "output_type": "execute_result"
    },
    {
     "data": {
      "image/png": "[encoded data removed]",
      "text/plain": [
       "<Figure size 432x288 with 1 Axes>"
      ]
     },
     "metadata": {
      "needs_background": "light"
     },
     "output_type": "display_data"
    }
   ],
   "source": [
    "plt.scatter(xs, ys)\n",
    "plt.scatter(xs, forward(params, xs), label='Model prediction')"
   ]
  },
  {
   "cell_type": "code",
   "execution_count": 17,
   "id": "a4c16238-2ad8-4a25-8a1d-87624e9e6a19",
   "metadata": {},
   "outputs": [],
   "source": [
    "for _ in range(10):\n",
    "    params = update(params, xs, ys)"
   ]
  },
  {
   "cell_type": "code",
   "execution_count": 18,
   "id": "bd106cc7-cbe1-49ea-951a-dea1a175ece1",
   "metadata": {},
   "outputs": [
    {
     "data": {
      "text/plain": [
       "<matplotlib.collections.PathCollection at 0x7ff9680a28d0>"
      ]
     },
     "execution_count": 18,
     "metadata": {},
     "output_type": "execute_result"
    },
    {
     "data": {
      "image/png": "[encoded data removed]",
      "text/plain": [
       "<Figure size 432x288 with 1 Axes>"
      ]
     },
     "metadata": {
      "needs_background": "light"
     },
     "output_type": "display_data"
    }
   ],
   "source": [
    "plt.scatter(xs, ys)\n",
    "plt.scatter(xs, forward(params, xs), label='Model prediction')"
   ]
  },
  {
   "cell_type": "markdown",
   "id": "a1c6dacc-4312-4c5a-bc62-fa640025dc84",
   "metadata": {},
   "source": [
    "Some more fitting."
   ]
  },
  {
   "cell_type": "code",
   "execution_count": 19,
   "id": "10ec9f8d-78fb-43aa-a870-dbde86271745",
   "metadata": {},
   "outputs": [],
   "source": [
    "for _ in range(1000):\n",
    "    params = update(params, xs, ys)"
   ]
  },
  {
   "cell_type": "code",
   "execution_count": 20,
   "id": "1f012cbc-d103-4af9-9f8c-622b77691052",
   "metadata": {},
   "outputs": [
    {
     "data": {
      "text/plain": [
       "<matplotlib.legend.Legend at 0x7ff9680062d0>"
      ]
     },
     "execution_count": 20,
     "metadata": {},
     "output_type": "execute_result"
    },
    {
     "data": {
      "image/png": "[encoded data removed]",
      "text/plain": [
       "<Figure size 432x288 with 1 Axes>"
      ]
     },
     "metadata": {
      "needs_background": "light"
     },
     "output_type": "display_data"
    }
   ],
   "source": [
    "plt.scatter(xs, ys)\n",
    "plt.scatter(xs, forward(params, xs), label='Model prediction')\n",
    "plt.legend()"
   ]
  },
  {
   "cell_type": "markdown",
   "id": "a1db5c94-8be0-4b94-9622-aa64bec1cc5c",
   "metadata": {},
   "source": [
    "Pytrees are more interesting than this. We can even register our own custom classes to be of JAX compatible containers types by defining flattening/unflatten functions."
   ]
  },
  {
   "cell_type": "markdown",
   "id": "ece5065a-eaab-416c-a3a6-00347c2c67d1",
   "metadata": {},
   "source": [
    "There are some gotchas to think of when working with pytrees.\n",
    "\n",
    "- Mistaking nodes for leaves\n",
    "- Handling of None"
   ]
  },
  {
   "cell_type": "markdown",
   "id": "a8df9206-f84b-499c-8a0f-e3113499a7bb",
   "metadata": {},
   "source": [
    "Either ways, this is all we're going to look at for today. More on parallel and stateful computations coming up."
   ]
  }
 ],
 "metadata": {
  "kernelspec": {
   "display_name": "Python 3 (ipykernel)",
   "language": "python",
   "name": "python3"
  },
  "language_info": {
   "codemirror_mode": {
    "name": "ipython",
    "version": 3
   },
   "file_extension": ".py",
   "mimetype": "text/x-python",
   "name": "python",
   "nbconvert_exporter": "python",
   "pygments_lexer": "ipython3",
   "version": "3.7.11"
  }
 },
 "nbformat": 4,
 "nbformat_minor": 5
}
