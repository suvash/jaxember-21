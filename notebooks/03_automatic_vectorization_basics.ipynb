{
 "cells": [
  {
   "cell_type": "markdown",
   "id": "9c8ab4b7-aae5-4493-9c30-b13b71f8974f",
   "metadata": {},
   "source": [
    "# 03 - Automatic vectorization in JAX"
   ]
  },
  {
   "cell_type": "markdown",
   "id": "a65d36a2-23d8-420c-b9a9-b2b92c9a870f",
   "metadata": {},
   "source": [
    "Let's look into how vectorization works in jax today."
   ]
  },
  {
   "cell_type": "markdown",
   "id": "122ed276-9d92-458d-8948-3e0b0b239fea",
   "metadata": {},
   "source": [
    "### Manual vectorization"
   ]
  },
  {
   "cell_type": "markdown",
   "id": "4f470b75-c0f8-4fd8-9e3b-f2fc9e2d53cf",
   "metadata": {},
   "source": [
    "Here's a simple function that convolves over two one-dimensional vectors. "
   ]
  },
  {
   "cell_type": "code",
   "execution_count": 2,
   "id": "efc20db7-618f-43d8-9ab3-fe94b7907d2d",
   "metadata": {},
   "outputs": [],
   "source": [
    "import jax\n",
    "import jax.numpy as jnp"
   ]
  },
  {
   "cell_type": "code",
   "execution_count": 3,
   "id": "afa73462-5d13-40e2-a0d5-033589a3b8a7",
   "metadata": {},
   "outputs": [
    {
     "data": {
      "text/plain": [
       "DeviceArray([0, 1, 2, 3, 4], dtype=int32)"
      ]
     },
     "execution_count": 3,
     "metadata": {},
     "output_type": "execute_result"
    }
   ],
   "source": [
    "x = jnp.arange(5)\n",
    "x"
   ]
  },
  {
   "cell_type": "code",
   "execution_count": 4,
   "id": "d2655d63-052b-4ed8-9336-a2b77ace2b01",
   "metadata": {},
   "outputs": [
    {
     "data": {
      "text/plain": [
       "DeviceArray([2., 3., 4.], dtype=float32)"
      ]
     },
     "execution_count": 4,
     "metadata": {},
     "output_type": "execute_result"
    }
   ],
   "source": [
    "w = jnp.array([2., 3., 4.])\n",
    "w"
   ]
  },
  {
   "cell_type": "code",
   "execution_count": 5,
   "id": "b67bf6d8-5452-4b79-a8df-c253cc0b5514",
   "metadata": {},
   "outputs": [],
   "source": [
    "def convolve(x, w):\n",
    "    output = []\n",
    "    for i in range(1, len(x)-1):\n",
    "        output.append(jnp.dot(x[i-1:i+2], w))\n",
    "    return jnp.array(output)"
   ]
  },
  {
   "cell_type": "code",
   "execution_count": 6,
   "id": "d8a1818c-70c1-4b6d-9e2e-71741bff6cd1",
   "metadata": {},
   "outputs": [
    {
     "data": {
      "text/plain": [
       "DeviceArray([11., 20., 29.], dtype=float32)"
      ]
     },
     "execution_count": 6,
     "metadata": {},
     "output_type": "execute_result"
    }
   ],
   "source": [
    "convolve(x,w)"
   ]
  },
  {
   "cell_type": "markdown",
   "id": "b3c01d54-5b46-49a5-bcd1-6ae4e6d9dacf",
   "metadata": {},
   "source": [
    "Now, say that we want to apply this to a batch of weights `ws` and a batch of vectors `xs`"
   ]
  },
  {
   "cell_type": "code",
   "execution_count": 7,
   "id": "9766730a-c2b1-4790-a69d-710342702991",
   "metadata": {},
   "outputs": [],
   "source": [
    "xs = jnp.stack([x,x,x])\n",
    "ws = jnp.stack([w,w,w])"
   ]
  },
  {
   "cell_type": "code",
   "execution_count": 8,
   "id": "41c7a72d-3c2c-4c17-a5d8-147f807ebe25",
   "metadata": {},
   "outputs": [
    {
     "data": {
      "text/plain": [
       "DeviceArray([[0, 1, 2, 3, 4],\n",
       "             [0, 1, 2, 3, 4],\n",
       "             [0, 1, 2, 3, 4]], dtype=int32)"
      ]
     },
     "execution_count": 8,
     "metadata": {},
     "output_type": "execute_result"
    }
   ],
   "source": [
    "xs"
   ]
  },
  {
   "cell_type": "code",
   "execution_count": 9,
   "id": "9ba915e3-7a2e-49fb-a696-0567d24cefc7",
   "metadata": {},
   "outputs": [
    {
     "data": {
      "text/plain": [
       "DeviceArray([[2., 3., 4.],\n",
       "             [2., 3., 4.],\n",
       "             [2., 3., 4.]], dtype=float32)"
      ]
     },
     "execution_count": 9,
     "metadata": {},
     "output_type": "execute_result"
    }
   ],
   "source": [
    "ws"
   ]
  },
  {
   "cell_type": "markdown",
   "id": "7bc3b00b-b960-4e59-9166-041e334d96bc",
   "metadata": {},
   "source": [
    "The naive option would be loop over the batch in Python."
   ]
  },
  {
   "cell_type": "code",
   "execution_count": 20,
   "id": "f969b68a-83cc-44f2-a102-5fa4f2b79820",
   "metadata": {},
   "outputs": [],
   "source": [
    "def manual_batch_convolve(xs, ws):\n",
    "    output = []\n",
    "    for i in range(xs.shape[0]):\n",
    "        output.append(convolve(xs[i], ws[i]))\n",
    "    return jnp.stack(output)"
   ]
  },
  {
   "cell_type": "code",
   "execution_count": 21,
   "id": "c5983b1d-5261-43f1-9155-0e478384b844",
   "metadata": {},
   "outputs": [
    {
     "data": {
      "text/plain": [
       "DeviceArray([[11., 20., 29.],\n",
       "             [11., 20., 29.],\n",
       "             [11., 20., 29.]], dtype=float32)"
      ]
     },
     "execution_count": 21,
     "metadata": {},
     "output_type": "execute_result"
    }
   ],
   "source": [
    "manual_batch_convolve(xs, ws)"
   ]
  },
  {
   "cell_type": "markdown",
   "id": "68f0a535-8efa-43e5-82ae-b405f906ea95",
   "metadata": {},
   "source": [
    "It's the correct result but not efficient at all."
   ]
  },
  {
   "cell_type": "markdown",
   "id": "a7c1e966-ee3f-46c7-b520-d0828d1b0958",
   "metadata": {},
   "source": [
    "## Automatic vectorization"
   ]
  },
  {
   "cell_type": "code",
   "execution_count": 22,
   "id": "e29c04fc-f5f3-4d66-9033-c254da9c18eb",
   "metadata": {},
   "outputs": [],
   "source": [
    "auto_batch_convolve = jax.vmap(convolve)"
   ]
  },
  {
   "cell_type": "code",
   "execution_count": 23,
   "id": "59000008-3f62-4495-bbd3-52aa3e045b03",
   "metadata": {},
   "outputs": [
    {
     "data": {
      "text/plain": [
       "DeviceArray([[11., 20., 29.],\n",
       "             [11., 20., 29.],\n",
       "             [11., 20., 29.]], dtype=float32)"
      ]
     },
     "execution_count": 23,
     "metadata": {},
     "output_type": "execute_result"
    }
   ],
   "source": [
    "auto_batch_convolve(xs, ws)"
   ]
  },
  {
   "cell_type": "markdown",
   "id": "d429d6ad-b03d-4369-acb8-69b0a486efc9",
   "metadata": {},
   "source": [
    "💥"
   ]
  },
  {
   "cell_type": "markdown",
   "id": "98156778-cc0b-4b6c-afe3-5948029cc813",
   "metadata": {},
   "source": [
    "This actually works similar to how the `jit` worked, by tracing the function and then adding batch axes automatically at the beginning of each input."
   ]
  },
  {
   "cell_type": "markdown",
   "id": "6f029a15-6701-466a-9569-1583cfa69500",
   "metadata": {},
   "source": [
    "Jax assumes batch dimensions to be the first one, if that's not the case then one can include `in_axes` and `out_axes` arguments to specify location of batch dimensions."
   ]
  },
  {
   "cell_type": "code",
   "execution_count": 24,
   "id": "844bc3df-7dc0-4305-a40c-33bf447d353a",
   "metadata": {},
   "outputs": [],
   "source": [
    "auto_batch_convolve_v2 = jax.vmap(convolve, in_axes=1, out_axes=1)\n",
    "\n",
    "xst = jnp.transpose(xs)\n",
    "wst = jnp.transpose(ws)"
   ]
  },
  {
   "cell_type": "code",
   "execution_count": 25,
   "id": "a987c739-a128-4147-b695-06ecfb7d82df",
   "metadata": {},
   "outputs": [
    {
     "data": {
      "text/plain": [
       "DeviceArray([[11., 11., 11.],\n",
       "             [20., 20., 20.],\n",
       "             [29., 29., 29.]], dtype=float32)"
      ]
     },
     "execution_count": 25,
     "metadata": {},
     "output_type": "execute_result"
    }
   ],
   "source": [
    "auto_batch_convolve_v2(xst, wst)"
   ]
  },
  {
   "cell_type": "markdown",
   "id": "083a0ba3-30d3-459a-a59a-b306d2b1bbef",
   "metadata": {},
   "source": [
    "`vmap` also supports the case where only one of the arguments is batched. For eg. convolving to a single set of weight w with a btch of vectors."
   ]
  },
  {
   "cell_type": "code",
   "execution_count": 26,
   "id": "af04ff5e-0389-4854-9519-a5d1dd71e811",
   "metadata": {},
   "outputs": [],
   "source": [
    "auto_batch_convolve_v3 = jax.vmap(convolve, in_axes=[0, None])"
   ]
  },
  {
   "cell_type": "code",
   "execution_count": 27,
   "id": "1399aa80-7976-4417-9b64-54ff8453b789",
   "metadata": {},
   "outputs": [
    {
     "data": {
      "text/plain": [
       "DeviceArray([[11., 20., 29.],\n",
       "             [11., 20., 29.],\n",
       "             [11., 20., 29.]], dtype=float32)"
      ]
     },
     "execution_count": 27,
     "metadata": {},
     "output_type": "execute_result"
    }
   ],
   "source": [
    "auto_batch_convolve_v3(xs, w)"
   ]
  },
  {
   "cell_type": "markdown",
   "id": "c9afa3e9-cf8f-464d-825b-67d6ee8c4cbe",
   "metadata": {},
   "source": [
    "## Combining transformations"
   ]
  },
  {
   "cell_type": "markdown",
   "id": "3de12341-4914-498b-b998-060d8eb52b37",
   "metadata": {},
   "source": [
    "My favorite part of JAX is where one can compose these transformations, wrapping a vmapped function with jit or jitting a vmapped function etc."
   ]
  },
  {
   "cell_type": "code",
   "execution_count": 28,
   "id": "90a93cce-e12e-4e1f-bb74-4819011284b6",
   "metadata": {},
   "outputs": [],
   "source": [
    "jitted_batch_convolve = jax.jit(auto_batch_convolve)"
   ]
  },
  {
   "cell_type": "code",
   "execution_count": 30,
   "id": "bf482425-dac4-4bc6-b6b6-24bab7b9be56",
   "metadata": {},
   "outputs": [
    {
     "data": {
      "text/plain": [
       "DeviceArray([[11., 20., 29.],\n",
       "             [11., 20., 29.],\n",
       "             [11., 20., 29.]], dtype=float32)"
      ]
     },
     "execution_count": 30,
     "metadata": {},
     "output_type": "execute_result"
    }
   ],
   "source": [
    "jitted_batch_convolve(xs, ws)"
   ]
  },
  {
   "cell_type": "markdown",
   "id": "e906e62a-e662-4409-8219-e4ceb596e4ae",
   "metadata": {},
   "source": [
    "This is all for today. Tomorrow, we'll look into (pseudo) random numbers."
   ]
  }
 ],
 "metadata": {
  "kernelspec": {
   "display_name": "Python 3 (ipykernel)",
   "language": "python",
   "name": "python3"
  },
  "language_info": {
   "codemirror_mode": {
    "name": "ipython",
    "version": 3
   },
   "file_extension": ".py",
   "mimetype": "text/x-python",
   "name": "python",
   "nbconvert_exporter": "python",
   "pygments_lexer": "ipython3",
   "version": "3.7.11"
  }
 },
 "nbformat": 4,
 "nbformat_minor": 5
}
